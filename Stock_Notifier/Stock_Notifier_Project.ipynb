{
 "cells": [
  {
   "cell_type": "markdown",
   "id": "5f782593-29d9-4aba-ba94-d1949ff5968e",
   "metadata": {},
   "source": [
    "# This Project gives the information of a particular stock through notification ."
   ]
  },
  {
   "cell_type": "code",
   "execution_count": 4,
   "id": "c65f9bd5-b79d-460d-a4fd-03dd4f062036",
   "metadata": {},
   "outputs": [],
   "source": [
    "# IMPORTING NECESSARY MODULES \n",
    "import datetime\n",
    "import time\n",
    "from plyer import notification\n",
    "import yfinance as yf"
   ]
  },
  {
   "cell_type": "code",
   "execution_count": 3,
   "id": "15694add-aeec-4bee-8e08-b1dec482829e",
   "metadata": {
    "scrolled": true
   },
   "outputs": [],
   "source": [
    "msft = yf.Ticker('MSFT')\n",
    "data= msft.info\n",
    "while True:\n",
    "    notification.notify(title='MICROSOFT',\n",
    "                       message=\"Current Price = {cp}\\nMarket Open= {mo}\\nDay Low = {dl}\\nDay High= {dh}\"''.format(\n",
    "                           cp= data['currentPrice'],\n",
    "                           dl= data['dayLow'],\n",
    "                           dh= data['dayHigh'],\n",
    "                           mo= data['open']),\n",
    "                        timeout=15,\n",
    "                        app_icon=r\"C:\\Users\\gaurav\\Downloads\\1497619898-jd24_85173.ico\"\n",
    "                       )\n",
    "    time.sleep(60*60*2)\n",
    "                   \n"
   ]
  }
 ],
 "metadata": {
  "kernelspec": {
   "display_name": "Python 3 (ipykernel)",
   "language": "python",
   "name": "python3"
  },
  "language_info": {
   "codemirror_mode": {
    "name": "ipython",
    "version": 3
   },
   "file_extension": ".py",
   "mimetype": "text/x-python",
   "name": "python",
   "nbconvert_exporter": "python",
   "pygments_lexer": "ipython3",
   "version": "3.11.7"
  }
 },
 "nbformat": 4,
 "nbformat_minor": 5
}
